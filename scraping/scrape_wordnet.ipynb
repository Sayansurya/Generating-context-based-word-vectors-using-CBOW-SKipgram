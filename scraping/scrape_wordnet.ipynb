{
 "cells": [
  {
   "cell_type": "code",
   "execution_count": 32,
   "metadata": {},
   "outputs": [],
   "source": [
    "import nltk\n",
    "from nltk.corpus import wordnet\n",
    "import json"
   ]
  },
  {
   "cell_type": "code",
   "execution_count": 33,
   "metadata": {},
   "outputs": [
    {
     "name": "stderr",
     "output_type": "stream",
     "text": [
      "[nltk_data] Downloading package wordnet to /home/afrin/nltk_data...\n",
      "[nltk_data]   Package wordnet is already up-to-date!\n"
     ]
    },
    {
     "data": {
      "text/plain": [
       "True"
      ]
     },
     "execution_count": 33,
     "metadata": {},
     "output_type": "execute_result"
    }
   ],
   "source": [
    "import nltk\n",
    "nltk.download('wordnet')"
   ]
  },
  {
   "cell_type": "code",
   "execution_count": 34,
   "metadata": {},
   "outputs": [],
   "source": [
    "WORDS = []\n",
    "\n",
    "with open('../data/validation.txt', 'r') as f:\n",
    "    analogy_dataset = f.readlines()\n",
    "for sample in analogy_dataset:\n",
    "    WORDS.extend([word.lower() for word in sample.strip().split()])\n",
    "WORDS = list(set(WORDS))"
   ]
  },
  {
   "cell_type": "code",
   "execution_count": 35,
   "metadata": {},
   "outputs": [],
   "source": [
    "\n",
    "# Initialize a list to store all sentences containing the word\n",
    "all_sentences = {}\n",
    "for word in WORDS:\n",
    "    # Iterate over all the synsets for the word\n",
    "    all_sentences[word] = []\n",
    "    for synset in wordnet.synsets(word):\n",
    "        # Get the definition for the synset and add it to the list\n",
    "        definition = synset.definition()\n",
    "        all_sentences[word].append(definition)\n",
    "        \n",
    "        # Get the example sentences for the synset and add them to the list\n",
    "        examples = synset.examples()\n",
    "        all_sentences[word].extend(examples)\n",
    "        \n",
    "        # Get any other sentences for the synset and add them to the list\n",
    "        hypernyms = synset.hypernyms()\n",
    "        hyponyms = synset.hyponyms()\n",
    "        meronyms = synset.part_meronyms() + synset.substance_meronyms() + synset.member_holonyms()\n",
    "        holonyms = synset.part_holonyms() + synset.substance_holonyms() + synset.member_meronyms()\n",
    "        related_synsets = hypernyms + hyponyms + meronyms + holonyms\n",
    "        \n",
    "        for related_synset in related_synsets:\n",
    "            related_sentences = related_synset.examples()\n",
    "            all_sentences[word].extend(related_sentences)\n",
    "\n"
   ]
  },
  {
   "cell_type": "code",
   "execution_count": 36,
   "metadata": {},
   "outputs": [],
   "source": [
    "final_list = {}\n",
    "for word, sentences in all_sentences.items():\n",
    "    final_list[word] = []\n",
    "    for sentence in sentences:\n",
    "        if word in sentence:\n",
    "            final_list[word].append(sentence)\n",
    "    if len(final_list[word]) == 0:\n",
    "        del final_list[word]"
   ]
  },
  {
   "cell_type": "code",
   "execution_count": 37,
   "metadata": {},
   "outputs": [],
   "source": [
    "with open('../data/scraped_sentences_validation.json', 'r', encoding='utf-8') as f:\n",
    "    data = json.load(f)"
   ]
  },
  {
   "cell_type": "code",
   "execution_count": 38,
   "metadata": {},
   "outputs": [],
   "source": [
    "final_data = {}\n",
    "for word, sentences in data.items():\n",
    "    final_data[word] = sentences\n",
    "    if word in final_list.keys():\n",
    "        final_data[word].extend(final_list[word])\n",
    "for word, sentences in final_list.items():\n",
    "    if word not in final_data.keys():\n",
    "        final_data[word] = sentences"
   ]
  },
  {
   "cell_type": "code",
   "execution_count": 39,
   "metadata": {},
   "outputs": [
    {
     "data": {
      "text/plain": [
       "557"
      ]
     },
     "execution_count": 39,
     "metadata": {},
     "output_type": "execute_result"
    }
   ],
   "source": [
    "len(final_data.keys())"
   ]
  },
  {
   "cell_type": "code",
   "execution_count": 41,
   "metadata": {},
   "outputs": [],
   "source": [
    "with open('../data/scraped_sentences_validation.json', 'w', encoding='utf-8') as f:\n",
    "    f.write(json.dumps(final_data, indent=2, ensure_ascii=False))"
   ]
  }
 ],
 "metadata": {
  "kernelspec": {
   "display_name": "mlenv",
   "language": "python",
   "name": "python3"
  },
  "language_info": {
   "codemirror_mode": {
    "name": "ipython",
    "version": 3
   },
   "file_extension": ".py",
   "mimetype": "text/x-python",
   "name": "python",
   "nbconvert_exporter": "python",
   "pygments_lexer": "ipython3",
   "version": "3.10.8"
  },
  "orig_nbformat": 4
 },
 "nbformat": 4,
 "nbformat_minor": 2
}
