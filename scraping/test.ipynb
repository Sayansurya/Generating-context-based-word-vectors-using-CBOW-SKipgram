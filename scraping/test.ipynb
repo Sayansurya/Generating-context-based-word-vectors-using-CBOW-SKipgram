{
 "cells": [
  {
   "cell_type": "code",
   "execution_count": 14,
   "metadata": {},
   "outputs": [],
   "source": [
    "import json\n",
    "from scraper import get_k_sentences"
   ]
  },
  {
   "cell_type": "code",
   "execution_count": 15,
   "metadata": {},
   "outputs": [],
   "source": [
    "with open('../data/scraped_sentences.json', 'r') as f:\n",
    "    data = json.load(f)"
   ]
  },
  {
   "cell_type": "code",
   "execution_count": 13,
   "metadata": {},
   "outputs": [
    {
     "name": "stdout",
     "output_type": "stream",
     "text": [
      "Current # sentences 269\n"
     ]
    },
    {
     "name": "stderr",
     "output_type": "stream",
     "text": [
      "checking for \"Maharashtra\" in pages:- :   7%|▋         | 61/915 [02:01<28:25,  2.00s/it]  \n"
     ]
    },
    {
     "name": "stdout",
     "output_type": "stream",
     "text": [
      "Scraped in total 1000 sentences\n",
      "saved file.\n",
      "Current # sentences 8\n"
     ]
    },
    {
     "name": "stderr",
     "output_type": "stream",
     "text": [
      "checking for \"Telangana\" in pages:- :   8%|▊         | 64/834 [01:26<17:15,  1.34s/it]\n"
     ]
    },
    {
     "name": "stdout",
     "output_type": "stream",
     "text": [
      "Scraped in total 1000 sentences\n",
      "saved file.\n",
      "Current # sentences 157\n"
     ]
    },
    {
     "name": "stderr",
     "output_type": "stream",
     "text": [
      "checking for \"Dispur\" in pages:- : 100%|██████████| 272/272 [04:56<00:00,  1.09s/it]\n"
     ]
    },
    {
     "name": "stdout",
     "output_type": "stream",
     "text": [
      "Scraped in total 157 sentences\n",
      "saved file.\n",
      "Current # sentences 269\n"
     ]
    },
    {
     "name": "stderr",
     "output_type": "stream",
     "text": [
      "checking for \"Slovakian\" in pages:- : 100%|██████████| 830/830 [13:15<00:00,  1.04it/s]\n"
     ]
    },
    {
     "name": "stdout",
     "output_type": "stream",
     "text": [
      "Scraped in total 274 sentences\n",
      "saved file.\n"
     ]
    }
   ],
   "source": [
    "# for key, val in data.items():\n",
    "#     if len(val) < 500:\n",
    "#         print(f'Current # sentences {len(val)}')\n",
    "#         sentences = get_k_sentences(key)\n",
    "#         print(f'Scraped in total {len(sentences)} sentences')\n",
    "#         data[key] = sentences\n",
    "#         with open('../data/scraped_sentences.json', 'w', encoding='utf-8') as f:\n",
    "#             f.write(json.dumps(data, indent=2, ensure_ascii=False))\n",
    "#             print('saved file.')"
   ]
  },
  {
   "cell_type": "code",
   "execution_count": 16,
   "metadata": {},
   "outputs": [
    {
     "name": "stdout",
     "output_type": "stream",
     "text": [
      "Athens               1000\tGreece               1000\tTehran               1000\tIran                 1000\tLondon               1000\tEngland              1000\tMadrid               1000\tSpain                1000\tBangkok              1000\tThailand             1000\tIslamabad            1000\tPakistan             1000\tBeijing              1000\tChina                1000\tTokyo                1000\tJapan                1000\tBerlin               1000\tGermany              1000\tRome                 1000\tItaly                1000\tCairo                1000\tEgypt                1000\tOslo                 1000\tNorway               1000\tOttawa               1000\tCanada               1000\tKabul                1000\tAfghanistan          1000\tCanberra             1000\tAustralia            1000\tDoha                 1000\tQatar                1000\tHanoi                1000\tVietnam              1000\tStockholm            1000\tSweden               1000\tBudapest             1000\tHungary              1000\tKathmandu            1000\tNepal                1000\tDhaka                1000\tBangladesh           1000\tKhartoum             1000\tSudan                1000\tKiev                 1000\tUkraine              1000\tLisbon               1000\tPortugal             1000\tQuito                1000\tEcuador              1000\tRiga                 1000\tLatvia               1000\tIndia                1000\tAsia                 1000\tParis                1000\tEurope               1000\tNigeria              1000\tAfrica               1000\tFrance               1000\tKenya                1000\tNetherlands          1000\tMumbai               1000\tNairobi              1000\tMaharashtra          1000\tKarnataka            1000\tBengaluru             690\tTelangana            1000\tHyderabad            1000\tOdisha               1000\tBhubaneswar           739\tGandhinagar           768\tBihar                1000\tPatna                1000\tChhattisgarh         1000\tRaipur                662\tAssam                1000\tDispur                157\tGoa                  1000\tPanaji                592\tRajasthan            1000\tJaipur               1000\tJharkhand            1000\tRanchi                931\tPunjab               1000\tChandigarh            957\tTripura              1000\tAgartala              568\tKerala               1000\tThiruvananthapuram   1000\tDelhi                1000\tSerbia               1000\tBelgrade             1000\tSpanish              1000\tArabic               1000\tSyria                1000\tEnglish              1000\tMouse                1000\tSqueak                780\tElephant             1000\tTrumpet              1000\tAlgeria              1000\tUSA                  1000\tDollar               1000\tArgentina            1000\tPeso                 1000\tRussia               1000\tRuble                1000\tArmenia              1000\tDram                 1000\tRial                  811\tBrazil               1000\tReal                 1000\tKrona                 773\tEuro                 1000\tYen                  1000\trupee                1000\tDenmark              1000\tkrone                 844\tnaira                 705\tSwitzerland          1000\tSwiss                1000\tThai                 1000\tIndian               1000\tSwedish              1000\tDutch                1000\tKorea                1000\tKorean               1000\tRussian              1000\tGerman               1000\tPortuguese           1000\tSlovakia             1000\tSlovakian             274\tPoland               1000\tPolish               1000\tItalian              1000\tNorwegian            1000\tMexico               1000\tMexican              1000\tJapanese             1000\tAustralian           1000\tIreland              1000\tIrish                1000\tCroatia              1000\tCroatian             1000\tFrench               1000\tDanish               1000\t"
     ]
    }
   ],
   "source": [
    "for key, val in data.items():\n",
    "    print(f'{key:20} {len(val):4}', end=\"\\t\")"
   ]
  }
 ],
 "metadata": {
  "kernelspec": {
   "display_name": "mlenv",
   "language": "python",
   "name": "python3"
  },
  "language_info": {
   "codemirror_mode": {
    "name": "ipython",
    "version": 3
   },
   "file_extension": ".py",
   "mimetype": "text/x-python",
   "name": "python",
   "nbconvert_exporter": "python",
   "pygments_lexer": "ipython3",
   "version": "3.10.5"
  },
  "orig_nbformat": 4,
  "vscode": {
   "interpreter": {
    "hash": "6c165b169ead51ed7dd867ada967038e7afce51eef97009d1ebd4bca797cfdb6"
   }
  }
 },
 "nbformat": 4,
 "nbformat_minor": 2
}
