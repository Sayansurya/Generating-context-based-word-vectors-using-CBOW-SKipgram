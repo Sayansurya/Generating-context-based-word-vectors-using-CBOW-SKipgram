{
 "cells": [
  {
   "attachments": {},
   "cell_type": "markdown",
   "metadata": {},
   "source": [
    "#### Code"
   ]
  },
  {
   "cell_type": "code",
   "execution_count": null,
   "metadata": {},
   "outputs": [],
   "source": [
    "from word_vector import WordVector\n",
    "import torch\n",
    "import re\n",
    "from pprint import pprint"
   ]
  },
  {
   "cell_type": "code",
   "execution_count": null,
   "metadata": {},
   "outputs": [],
   "source": [
    "cbow_wv = WordVector('pref', 'cbow')\n",
    "skipgram_wv = WordVector('pref', 'skipgram')"
   ]
  },
  {
   "cell_type": "code",
   "execution_count": null,
   "metadata": {},
   "outputs": [],
   "source": [
    "def find_analogy(pretrained_wv):\n",
    "    question = input('Add semicolon separated pair with colon separated words:- ')\n",
    "    pair, query = question.split(';')\n",
    "    query = re.sub('[^A-Za-z]', '', query.strip().lower())\n",
    "    first, second = pair.split(':')\n",
    "    first = first.strip().lower()\n",
    "    second = second.strip().lower()\n",
    "    resultant = pretrained_wv[query] - pretrained_wv[first] + pretrained_wv[second]\n",
    "    word, scores = pretrained_wv.find_most_similar_from_vector(resultant)\n",
    "    print(f'The answer could be {list(scores.keys())[1]}\\nMost similar found:-')\n",
    "    pprint(scores)"
   ]
  },
  {
   "attachments": {},
   "cell_type": "markdown",
   "metadata": {},
   "source": [
    "#### Analogy"
   ]
  },
  {
   "cell_type": "code",
   "execution_count": 19,
   "metadata": {},
   "outputs": [
    {
     "name": "stdout",
     "output_type": "stream",
     "text": [
      "The answer could be recommend\n",
      "Most similar found:-\n",
      "{'calves': 0.45806,\n",
      " 'characters': 0.510908,\n",
      " 'covers': 0.44095,\n",
      " 'lease': 0.513486,\n",
      " 'polluted': 0.447707,\n",
      " 'prouder': 0.505986,\n",
      " 'quicken': 0.469239,\n",
      " 'recommend': 0.528518,\n",
      " 'sockets': 0.471539,\n",
      " 'summer': 1.0}\n"
     ]
    }
   ],
   "source": [
    "find_analogy(cbow_wv)"
   ]
  },
  {
   "cell_type": "code",
   "execution_count": 20,
   "metadata": {},
   "outputs": [
    {
     "name": "stdout",
     "output_type": "stream",
     "text": [
      "The answer could be summer\n",
      "Most similar found:-\n",
      "{'admirable': 0.350626,\n",
      " 'alpha': 0.331908,\n",
      " 'cold': 0.709485,\n",
      " 'comprehend': 0.386679,\n",
      " 'dotted': 0.387673,\n",
      " 'flowery': 0.390461,\n",
      " 'infidel': 0.376359,\n",
      " 'silenced': 0.356232,\n",
      " 'summer': 0.57246,\n",
      " 'triumphant': 0.386857}\n"
     ]
    }
   ],
   "source": [
    "find_analogy(skipgram_wv)"
   ]
  },
  {
   "attachments": {},
   "cell_type": "markdown",
   "metadata": {},
   "source": [
    "#### Cosine Similarity b/w Words"
   ]
  },
  {
   "cell_type": "code",
   "execution_count": 16,
   "metadata": {},
   "outputs": [
    {
     "data": {
      "text/plain": [
       "('loss',\n",
       " {'loss': 0.0,\n",
       "  'chiefly': 0.0,\n",
       "  'since': 0.0,\n",
       "  'possible': 0.0,\n",
       "  'expects': 0.0,\n",
       "  'ungodly': 0.0,\n",
       "  'alert': 0.0,\n",
       "  'ten': 0.0,\n",
       "  'delson': 0.0,\n",
       "  'prominently': 0.0})"
      ]
     },
     "execution_count": 16,
     "metadata": {},
     "output_type": "execute_result"
    }
   ],
   "source": [
    "cbow_wv.find_most_similar_from_word('greenhouse')"
   ]
  },
  {
   "cell_type": "code",
   "execution_count": null,
   "metadata": {},
   "outputs": [],
   "source": [
    "torch.nn.functional.cosine_similarity(cbow_wv['little'].reshape(-1, 1), cbow_wv['small'].reshape(-1, 1), dim=0)"
   ]
  },
  {
   "cell_type": "code",
   "execution_count": null,
   "metadata": {},
   "outputs": [],
   "source": [
    "skipgram_wv.find_most_similar_from_word('shall')"
   ]
  },
  {
   "cell_type": "code",
   "execution_count": null,
   "metadata": {},
   "outputs": [],
   "source": [
    "torch.nn.functional.cosine_similarity(skipgram_wv['little'].reshape(-1, 1), skipgram_wv['small'].reshape(-1, 1), dim=0)"
   ]
  }
 ],
 "metadata": {
  "kernelspec": {
   "display_name": "pytorch-cuda",
   "language": "python",
   "name": "python3"
  },
  "language_info": {
   "codemirror_mode": {
    "name": "ipython",
    "version": 3
   },
   "file_extension": ".py",
   "mimetype": "text/x-python",
   "name": "python",
   "nbconvert_exporter": "python",
   "pygments_lexer": "ipython3",
   "version": "3.10.9"
  },
  "orig_nbformat": 4,
  "vscode": {
   "interpreter": {
    "hash": "bb56ff917d7cf08c322f57d1970bf3385d77778e2ae74648fcf96c1211292ae4"
   }
  }
 },
 "nbformat": 4,
 "nbformat_minor": 2
}
